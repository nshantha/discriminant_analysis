{
  "nbformat": 4,
  "nbformat_minor": 0,
  "metadata": {
    "colab": {
      "name": "Proj-1-Discriminant_Classifier.ipynb",
      "provenance": [],
      "collapsed_sections": [],
      "machine_shape": "hm"
    },
    "kernelspec": {
      "name": "python3",
      "display_name": "Python 3"
    },
    "accelerator": "GPU"
  },
  "cells": [
    {
      "cell_type": "markdown",
      "metadata": {
        "id": "NT_H-c-G-g4F",
        "colab_type": "text"
      },
      "source": [
        "#Discriminant **Analysis**"
      ]
    },
    {
      "cell_type": "markdown",
      "metadata": {
        "id": "fitW7JBE-ptA",
        "colab_type": "text"
      },
      "source": [
        "Logistic regression is a classification algorithm traditionally limited to only two-class classification problems (i.e. default = Yes or No). However, if we have more than two classes then *Linear and Discriminant Analysis* (LDA & QDA) is an often-preferred classification technique."
      ]
    },
    {
      "cell_type": "markdown",
      "metadata": {
        "id": "2cX3fwHE_MNX",
        "colab_type": "text"
      },
      "source": [
        "`Discriminant analysis models the distribution of the predictors X separately in each of the response classes (i.e. default = “Yes”, default = “No” ), and then uses Bayes’ theorem to flip these around into estimates for the probability of the response category given the value of X`"
      ]
    },
    {
      "cell_type": "markdown",
      "metadata": {
        "id": "pRpVl8WQ_pUt",
        "colab_type": "text"
      },
      "source": [
        "*`In this Project, we will apply discriminant analysis to recognize the digits in the MNIST data set`*\n",
        "\n",
        "LDA assumes that the observations within each class are drawn from a multivariate Gaussian distribution and the covariance of the predictor variables are common across all k levels of the response variable Y. Quadratic discriminant analysis (QDA) provides an alternative approach.\n",
        "\n",
        "Proceeding, we will apply **QDA** to train and validate the dataset and publish accuracy of the model."
      ]
    },
    {
      "cell_type": "code",
      "metadata": {
        "id": "v-30_6asypaA",
        "colab_type": "code",
        "colab": {}
      },
      "source": [
        "import numpy as np\n",
        "import matplotlib.pyplot as plt\n",
        "import tensorflow as tf\n",
        "from PIL import Image\n",
        "import math\n",
        "from scipy.stats import multivariate_normal"
      ],
      "execution_count": 0,
      "outputs": []
    },
    {
      "cell_type": "code",
      "metadata": {
        "id": "vbCR1ywryzhg",
        "colab_type": "code",
        "outputId": "249e2725-084b-4fa6-8fca-20547fe08d40",
        "colab": {
          "base_uri": "https://localhost:8080/",
          "height": 84
        }
      },
      "source": [
        "from tensorflow.examples.tutorials.mnist import input_data\n",
        "data=input_data.read_data_sets(\"data/MNIST/\",one_hot=True)"
      ],
      "execution_count": 31,
      "outputs": [
        {
          "output_type": "stream",
          "text": [
            "Extracting data/MNIST/train-images-idx3-ubyte.gz\n",
            "Extracting data/MNIST/train-labels-idx1-ubyte.gz\n",
            "Extracting data/MNIST/t10k-images-idx3-ubyte.gz\n",
            "Extracting data/MNIST/t10k-labels-idx1-ubyte.gz\n"
          ],
          "name": "stdout"
        }
      ]
    },
    {
      "cell_type": "code",
      "metadata": {
        "id": "P_wMva-6y5tv",
        "colab_type": "code",
        "outputId": "756fbe02-3f2b-4c8e-d678-0684e679936f",
        "colab": {
          "base_uri": "https://localhost:8080/",
          "height": 33
        }
      },
      "source": [
        "X_train= data.train.images\n",
        "Y_train = np.asarray(data.train.labels, dtype=np.int32)\n",
        "X_test = data.test.images \n",
        "Y_test = np.asarray(data.test.labels, dtype=np.int32)\n",
        "X_train.shape"
      ],
      "execution_count": 32,
      "outputs": [
        {
          "output_type": "execute_result",
          "data": {
            "text/plain": [
              "(55000, 784)"
            ]
          },
          "metadata": {
            "tags": []
          },
          "execution_count": 32
        }
      ]
    },
    {
      "cell_type": "code",
      "metadata": {
        "id": "uaILzTMLy-IT",
        "colab_type": "code",
        "colab": {}
      },
      "source": [
        "X_train = X_train.reshape(X_train.shape[0], 28, 28)\n",
        "X_test = X_test.reshape(X_test.shape[0], 784)"
      ],
      "execution_count": 0,
      "outputs": []
    },
    {
      "cell_type": "code",
      "metadata": {
        "id": "VYDq97YozUsb",
        "colab_type": "code",
        "outputId": "157afd22-26aa-4eee-c607-3e62dcb5a801",
        "colab": {
          "base_uri": "https://localhost:8080/",
          "height": 265
        }
      },
      "source": [
        "plt.imshow(X_train[100],cmap='gray')\n",
        "plt.show()\n"
      ],
      "execution_count": 34,
      "outputs": [
        {
          "output_type": "display_data",
          "data": {
            "image/png": "[encoded data removed]",
            "text/plain": [
              "<Figure size 432x288 with 1 Axes>"
            ]
          },
          "metadata": {
            "tags": []
          }
        }
      ]
    },
    {
      "cell_type": "markdown",
      "metadata": {
        "id": "gnXTmiG-7vHN",
        "colab_type": "text"
      },
      "source": [
        "**Quadratic Discriminant Analysis**\n",
        "QDA is not really that much different from LDA except that you assume that the covariance matrix can be different for each class and so, we will estimate the covariance matrix \n",
        "Σ\n",
        "k\n",
        " separately for each class k, k =1, 2, ... , K.\n",
        "\n",
        "This is used for\n",
        "*Modeling and classifying the categorical response \n",
        "Y\n",
        " with a non-linear combination of predictor variables \n",
        "X*\n"
      ]
    },
    {
      "cell_type": "markdown",
      "metadata": {
        "id": "DAyZ8CQCxiVl",
        "colab_type": "text"
      },
      "source": [
        "###Part-1: Calculating Mean and Standard Deviation"
      ]
    },
    {
      "cell_type": "markdown",
      "metadata": {
        "id": "saZUEHXTxuAF",
        "colab_type": "text"
      },
      "source": [
        "Calculating mean for Individual MNIST digits\n",
        "\n",
        "\n",
        "\n",
        "```\n",
        "Mean is denoted as μ\n",
        "Mean of individual digits is calculated using numpy and saved in a list\n",
        "```\n",
        "\n",
        "\n"
      ]
    },
    {
      "cell_type": "code",
      "metadata": {
        "id": "60OBgAuB1HP5",
        "colab_type": "code",
        "colab": {}
      },
      "source": [
        "X_list = []\n",
        "for i in range(10):\n",
        "  t = X_train[Y_train[:,i]==1]\n",
        "  X_list.append(t)\n",
        "\n",
        "#Mean\n",
        "M_list = []\n",
        "for i in range(10):\n",
        "  m = np.mean(X_list[i],axis=0) \n",
        "  M_list.append(m)"
      ],
      "execution_count": 0,
      "outputs": []
    },
    {
      "cell_type": "code",
      "metadata": {
        "id": "ZTRqWxSVD1Gf",
        "colab_type": "code",
        "outputId": "3abc0e98-292a-42a4-cdc0-c5830aaae144",
        "colab": {
          "base_uri": "https://localhost:8080/",
          "height": 172
        }
      },
      "source": [
        "#Images of mean of all digits\n",
        "mean_image = np.concatenate((M_list[0],M_list[1],M_list[2],M_list[3],M_list[4],\n",
        "                            M_list[5],M_list[6],M_list[7],M_list[8],M_list[9]),axis=1)\n",
        "plt.figure(figsize = (22,22))\n",
        "plt.imshow(mean_image,cmap='gray');\n",
        "plt.show()"
      ],
      "execution_count": 36,
      "outputs": [
        {
          "output_type": "display_data",
          "data": {
            "image/png": "[encoded data removed]",
            "text/plain": [
              "<Figure size 1584x1584 with 1 Axes>"
            ]
          },
          "metadata": {
            "tags": []
          }
        }
      ]
    },
    {
      "cell_type": "markdown",
      "metadata": {
        "id": "sxPHBopkx0P8",
        "colab_type": "text"
      },
      "source": [
        "\n",
        "\n",
        "\n",
        "Calculating Standard Deviation for Individual MNIST digits\n",
        "\n",
        "\n",
        "\n",
        "\n"
      ]
    },
    {
      "cell_type": "code",
      "metadata": {
        "id": "OOMT-SuaEku5",
        "colab_type": "code",
        "colab": {}
      },
      "source": [
        "#Standard Deviation\n",
        "S_list = []\n",
        "for i in range(10):\n",
        "  s = np.std(X_list[i],axis=0) \n",
        "  S_list.append(s)"
      ],
      "execution_count": 0,
      "outputs": []
    },
    {
      "cell_type": "code",
      "metadata": {
        "id": "NZXq6MFDFuak",
        "colab_type": "code",
        "outputId": "abbd84e2-cdef-4ed1-f9a5-b015bbf53079",
        "colab": {
          "base_uri": "https://localhost:8080/",
          "height": 172
        }
      },
      "source": [
        "#Images of SD of all digits\n",
        "sd_image = np.concatenate((S_list[0],S_list[1],S_list[2],S_list[3],S_list[4],\n",
        "                            S_list[5],S_list[6],S_list[7],S_list[8],S_list[9]),axis=1)\n",
        "plt.figure(figsize = (22,22))\n",
        "plt.imshow(sd_image,cmap='gray');\n",
        "plt.show()"
      ],
      "execution_count": 38,
      "outputs": [
        {
          "output_type": "display_data",
          "data": {
            "image/png": "[encoded data removed]",
            "text/plain": [
              "<Figure size 1584x1584 with 1 Axes>"
            ]
          },
          "metadata": {
            "tags": []
          }
        }
      ]
    },
    {
      "cell_type": "markdown",
      "metadata": {
        "id": "O6at8pREx5KV",
        "colab_type": "text"
      },
      "source": [
        "###Part-2"
      ]
    },
    {
      "cell_type": "markdown",
      "metadata": {
        "id": "j6jAGz1Ax-El",
        "colab_type": "text"
      },
      "source": [
        "**The Quadratic discriminant Functions are:**\n",
        "\n",
        "$gi(x)=x_tW_ix+N^t_ix+B_i0 $\n",
        "\n",
        "where,\n",
        "\n",
        "$W_i = (-1/2) ∑_i^-1 $\n",
        "\n",
        "$N_i = ∑_i^-1 μ_i $\n",
        "\n",
        "$B_i0=−12μ^t_i∑^−1_i μ_i+ ln P(ωi)− (1/2)ln|∑_i|$"
      ]
    },
    {
      "cell_type": "markdown",
      "metadata": {
        "id": "ORIJJvNPGiIT",
        "colab_type": "text"
      },
      "source": [
        "`P(ωi) is calculated below:\n",
        "All Prior probabilities values leads to 1`"
      ]
    },
    {
      "cell_type": "code",
      "metadata": {
        "id": "JV3e1yPcF2SZ",
        "colab_type": "code",
        "colab": {}
      },
      "source": [
        "#Calculating Prior Probabilities\n",
        "priors = []\n",
        "for i in range(len(X_list)):\n",
        "  var = X_list[i].size/X_train.size\n",
        "  priors.append(var)\n",
        "\n",
        "priors = np.asarray(priors)"
      ],
      "execution_count": 0,
      "outputs": []
    },
    {
      "cell_type": "markdown",
      "metadata": {
        "id": "zhq0X2ndGuux",
        "colab_type": "text"
      },
      "source": [
        "$∑_i$ is calculated below: \n",
        "\n",
        "```\n",
        "Numpy covariance is used to get the covariance of each individual digit with respect to the dataset\n",
        "```\n",
        "\n"
      ]
    },
    {
      "cell_type": "code",
      "metadata": {
        "id": "BF8n7pLGO6ol",
        "colab_type": "code",
        "colab": {}
      },
      "source": [
        "from numpy.linalg import pinv\n",
        "from numpy.linalg import det\n",
        "\n",
        "C0 = np.reshape(X_list[0], (5444, 784))\n",
        "c0 = np.cov(C0.T)\n",
        "\n",
        "C1 = np.reshape(X_list[1], (6179, 784))\n",
        "c1 = np.cov(C1.T)\n",
        "\n",
        "C2 = np.reshape(X_list[2], (5470, 784))\n",
        "c2 = np.cov(C2.T)\n",
        "\n",
        "C3 = np.reshape(X_list[3], (5638, 784))\n",
        "c3 = np.cov(C3.T)\n",
        "\n",
        "C4 = np.reshape(X_list[4], (5307, 784))\n",
        "c4 = np.cov(C4.T)\n",
        "\n",
        "C5 = np.reshape(X_list[5], (4987, 784))\n",
        "c5 = np.cov(C5.T)\n",
        "\n",
        "C6 = np.reshape(X_list[6], (5417, 784))\n",
        "c6 = np.cov(C6.T)\n",
        "\n",
        "C7 = np.reshape(X_list[7], (5715, 784))\n",
        "c7 = np.cov(C7.T)\n",
        "\n",
        "C8 = np.reshape(X_list[8], (5389, 784))\n",
        "c8 = np.cov(C8.T)\n",
        "\n",
        "C9 = np.reshape(X_list[9], (5454, 784))\n",
        "c9 = np.cov(C9.T)"
      ],
      "execution_count": 0,
      "outputs": []
    },
    {
      "cell_type": "code",
      "metadata": {
        "id": "GJhhdtQoUJz1",
        "colab_type": "code",
        "colab": {}
      },
      "source": [
        "#Co-variance array with each individual matrices\n",
        "covar_array = np.array((c0,c1,c2,c3,c4,c5,c6,c7,c8,c9))\n",
        "\n",
        "C_inv = []\n",
        "for i in range(len(covar_array)):\n",
        "  cinv = pinv(covar_array[i])\n",
        "  C_inv.append(cinv)\n",
        "\n",
        "c_n = np.asarray(C_inv)"
      ],
      "execution_count": 0,
      "outputs": []
    },
    {
      "cell_type": "markdown",
      "metadata": {
        "id": "BfA_1xevG-Lp",
        "colab_type": "text"
      },
      "source": [
        "$W_i = -1/2 ∑_i^-1 $ "
      ]
    },
    {
      "cell_type": "code",
      "metadata": {
        "id": "oGaBnIa3P8-H",
        "colab_type": "code",
        "colab": {}
      },
      "source": [
        "#Calculating W\n",
        "W = []\n",
        "for i in range(len(C_inv)):\n",
        "  w = -0.5 * C_inv[i]\n",
        "  W.append(w)\n",
        "\n",
        "W = np.asarray(W)"
      ],
      "execution_count": 0,
      "outputs": []
    },
    {
      "cell_type": "markdown",
      "metadata": {
        "id": "Patdo89QHF6j",
        "colab_type": "text"
      },
      "source": [
        "$N_i = ∑_i^-1 μ_i $\n"
      ]
    },
    {
      "cell_type": "code",
      "metadata": {
        "id": "kQ-NFjuMHJEX",
        "colab_type": "code",
        "outputId": "c21edb22-3252-48d6-9055-0eaf8141f09f",
        "colab": {
          "base_uri": "https://localhost:8080/",
          "height": 33
        }
      },
      "source": [
        "#calculating N\n",
        "m_i = []\n",
        "for i in range(len(M_list)):\n",
        "  m = np.reshape(M_list[i], (784))\n",
        "  m_i.append(m)\n",
        "\n",
        "N = []\n",
        "m_i = np.asarray(m_i)\n",
        "for i in range(len(m_i)):\n",
        "  n = np.matmul(c_n[i], m_i[i])\n",
        "  N.append(n)\n",
        "\n",
        "N = np.asarray(N)\n",
        "len(N)"
      ],
      "execution_count": 43,
      "outputs": [
        {
          "output_type": "execute_result",
          "data": {
            "text/plain": [
              "10"
            ]
          },
          "metadata": {
            "tags": []
          },
          "execution_count": 43
        }
      ]
    },
    {
      "cell_type": "markdown",
      "metadata": {
        "id": "cTfosM0dHUfC",
        "colab_type": "text"
      },
      "source": [
        "$B_i0=−12μ^t_i∑^−1_i μ_i+ ln P(ωi)− (1/2)ln|∑_i|$"
      ]
    },
    {
      "cell_type": "code",
      "metadata": {
        "id": "e1puAnyNHRlU",
        "colab_type": "code",
        "outputId": "be85382d-2ada-4678-e610-89c1d8eb92c6",
        "colab": {
          "base_uri": "https://localhost:8080/",
          "height": 33
        }
      },
      "source": [
        "#Calculating Bayes\n",
        "\n",
        "B = []\n",
        "for i in range(10):\n",
        "  b1 = -0.5 * np.matmul(np.matmul(m_i[i].T,c_n[i] ),m_i[i]) \n",
        "  b2 = np.log(priors[i])\n",
        "  b3 = 0.5 * np.log(det(covar_array[i])+0.001)\n",
        "  b = b1 +  b2 - b3\n",
        "  B.append(b)\n",
        "\n",
        "B = np.asarray(B)\n",
        "X_test.shape"
      ],
      "execution_count": 44,
      "outputs": [
        {
          "output_type": "execute_result",
          "data": {
            "text/plain": [
              "(10000, 784)"
            ]
          },
          "metadata": {
            "tags": []
          },
          "execution_count": 44
        }
      ]
    },
    {
      "cell_type": "markdown",
      "metadata": {
        "id": "xztsau8pHbip",
        "colab_type": "text"
      },
      "source": [
        "$gi(x)=x_tW_ix+N^t_ix+B_i0 $\n",
        "`Individual elements of G is obtained below:`"
      ]
    },
    {
      "cell_type": "code",
      "metadata": {
        "id": "UQKyCXk4Ijb5",
        "colab_type": "code",
        "colab": {}
      },
      "source": [
        "G_max = []\n",
        "for i in range(len(X_test)):\n",
        "  for j in range(len(W)):\n",
        "    G = []\n",
        "    g1 = np.matmul(np.matmul(X_test[i].T,W[j]),X_test[i])\n",
        "    g2 = np.matmul(N[j].T,X_test[i])\n",
        "    g3 = B[j]\n",
        "    g = g1+g2+g3\n",
        "    G.append(g)\n",
        "  g_max = np.argmax(G)\n",
        "  G_max.append(g_max)"
      ],
      "execution_count": 0,
      "outputs": []
    },
    {
      "cell_type": "markdown",
      "metadata": {
        "id": "nw_kJI8ZHgln",
        "colab_type": "text"
      },
      "source": [
        "**Calculating Error:**\n",
        "`Error rate is calculated by comparing with the labeled dataset with the obtained G_max array which contains the predicted values\n",
        "`"
      ]
    },
    {
      "cell_type": "code",
      "metadata": {
        "id": "YI5MBdaci9Va",
        "colab_type": "code",
        "colab": {
          "base_uri": "https://localhost:8080/",
          "height": 33
        },
        "outputId": "43b146b4-0112-4022-f2ce-5b280c76478d"
      },
      "source": [
        "#Calculating the errors    \n",
        "Y_array=np.asarray(G_max)\n",
        "count=0\n",
        "for i in range(len(Y_test)):\n",
        "    if(Y_test[i][0]!=Y_array[i]):\n",
        "        count=count+1\n",
        "total = Y_test.shape[0]\n",
        "print(\"Error rate: %d/%d = %f\" % ((count,total,(count/float(total)))))"
      ],
      "execution_count": 46,
      "outputs": [
        {
          "output_type": "stream",
          "text": [
            "Error rate: 980/10000 = 0.098000\n"
          ],
          "name": "stdout"
        }
      ]
    },
    {
      "cell_type": "markdown",
      "metadata": {
        "id": "OoTQWAxUHmOw",
        "colab_type": "text"
      },
      "source": [
        "**Calculating Accuracy**:\n",
        "`Accuracy is calculated by negating the total count by the error count and dividing by the total count`"
      ]
    },
    {
      "cell_type": "code",
      "metadata": {
        "id": "teZuB-fDw9Gp",
        "colab_type": "code",
        "colab": {
          "base_uri": "https://localhost:8080/",
          "height": 33
        },
        "outputId": "14662ef9-22fd-4016-98ea-575fe922569a"
      },
      "source": [
        "print(\"The accuracy rate: %f percent \" % (((total-count)/float(total))*100))"
      ],
      "execution_count": 47,
      "outputs": [
        {
          "output_type": "stream",
          "text": [
            "The accuracy rate: 90.200000 percent \n"
          ],
          "name": "stdout"
        }
      ]
    },
    {
      "cell_type": "markdown",
      "metadata": {
        "id": "9rYDuZVOBv0y",
        "colab_type": "text"
      },
      "source": [
        "\n",
        "This suggests that the quadratic form assumed by QDA may capture the true relationship more accurately than the linear forms assumed by LDA and logistic regression."
      ]
    },
    {
      "cell_type": "markdown",
      "metadata": {
        "id": "oFemCclGBGcD",
        "colab_type": "text"
      },
      "source": [
        "**Why it doesn't perform as good as many other methods on LeCuns web page?**\n",
        "\n",
        "The following reasons tries to explain why the method implemented by us doesn’t perform as well as other methods on LeCuns web page.\n",
        "\n",
        "QDA assumes that the data are Gaussian. More specifically, it assumes that all classes share the different covariance matrix.\n",
        "\n",
        "QDA finds quadratic decision boundaries in a K−1 dimensional subspace. As such, it is not suited if there are higher-order interactions between the independent variables.\n",
        "\n",
        "QDA is well-suited for multi-class problems but should be used with care when the class distribution is imbalanced because the priors are estimated from the observed counts. Thus, observations will rarely be classified to infrequent classes.\n",
        "\n",
        "For any possible value of a feature, you need to estimate a likelihood value by a frequentist approach. This can result in probabilities going towards 0 or 1, which in turn leads to numerical instabilities and worse results. In this case, you need to smooth in some way your probabilities, or to impose some prior on your data. This shortcoming is absent in methods involving ANNs and Neural Networks.\n",
        "\n"
      ]
    }
  ]
}